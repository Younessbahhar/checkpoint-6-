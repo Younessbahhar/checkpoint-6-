{
 "cells": [
  {
   "cell_type": "markdown",
   "id": "39498437",
   "metadata": {},
   "source": [
    "# Numpy Checkpoint:"
   ]
  },
  {
   "cell_type": "markdown",
   "id": "f577beb7",
   "metadata": {},
   "source": [
    "## Question 1:"
   ]
  },
  {
   "cell_type": "code",
   "execution_count": 5,
   "id": "1dfa0e43",
   "metadata": {},
   "outputs": [
    {
     "name": "stdout",
     "output_type": "stream",
     "text": [
      "[[1, 2, 3], [4, 5, 6]]\n"
     ]
    },
    {
     "data": {
      "text/plain": [
       "list"
      ]
     },
     "execution_count": 5,
     "metadata": {},
     "output_type": "execute_result"
    }
   ],
   "source": [
    "import numpy as np \n",
    "a=np.array([[1,2,3],[4,5,6]])\n",
    "new=a.tolist()\n",
    "print(new)\n",
    "type(new)"
   ]
  },
  {
   "cell_type": "markdown",
   "id": "32a848f4",
   "metadata": {},
   "source": [
    "## Question 2 :"
   ]
  },
  {
   "cell_type": "markdown",
   "id": "dc976c5e",
   "metadata": {},
   "source": [
    "### méthode 1: "
   ]
  },
  {
   "cell_type": "code",
   "execution_count": 21,
   "id": "b52667e3",
   "metadata": {},
   "outputs": [
    {
     "name": "stdout",
     "output_type": "stream",
     "text": [
      "15\n"
     ]
    }
   ],
   "source": [
    "a=np.array([[1,2,3],[4,5,6],[7,8,9]])\n",
    "diag=np.diagonal(a)\n",
    "somme=sum(diag)\n",
    "print(somme)\n"
   ]
  },
  {
   "cell_type": "markdown",
   "id": "cf03afd8",
   "metadata": {},
   "source": [
    "### méthode 2: "
   ]
  },
  {
   "cell_type": "code",
   "execution_count": 22,
   "id": "ffbda4f4",
   "metadata": {},
   "outputs": [
    {
     "name": "stdout",
     "output_type": "stream",
     "text": [
      "15\n"
     ]
    }
   ],
   "source": [
    "a=np.array([[1,2,3],[4,5,6],[7,8,9]])\n",
    "s=np.trace(a)\n",
    "print(s)"
   ]
  },
  {
   "cell_type": "markdown",
   "id": "f7e03e66",
   "metadata": {},
   "source": [
    "## Question 3:"
   ]
  },
  {
   "cell_type": "code",
   "execution_count": 25,
   "id": "bbc8b3f9",
   "metadata": {},
   "outputs": [
    {
     "name": "stdout",
     "output_type": "stream",
     "text": [
      "2\n",
      "[3 5]\n"
     ]
    }
   ],
   "source": [
    "a=np.array([[1,2],[3,5]])\n",
    "x=int(input())\n",
    "print(a[a>x])"
   ]
  },
  {
   "cell_type": "markdown",
   "id": "086c1325",
   "metadata": {},
   "source": [
    "## Question 4: "
   ]
  },
  {
   "cell_type": "code",
   "execution_count": 40,
   "id": "578da2f7",
   "metadata": {},
   "outputs": [
    {
     "name": "stdout",
     "output_type": "stream",
     "text": [
      "[[ 5 13 10 10 16]\n",
      " [ 9 10 12 12  8]\n",
      " [12 12  7 12 17]\n",
      " [16 14 16 16 17]\n",
      " [13 13  4 10 11]]\n"
     ]
    }
   ],
   "source": [
    "a=np.random.randint(2, 10, size=(5,5))\n",
    "b=np.random.randint(2, 10, size=(5,5))\n",
    "c=a+b\n",
    "print(c)"
   ]
  },
  {
   "cell_type": "markdown",
   "id": "8abbbd24",
   "metadata": {},
   "source": [
    "## Question 5:"
   ]
  },
  {
   "cell_type": "code",
   "execution_count": 41,
   "id": "36500eef",
   "metadata": {},
   "outputs": [
    {
     "name": "stdout",
     "output_type": "stream",
     "text": [
      "[[ 1.  -2.   2.  -2.   1. ]\n",
      " [ 2.2 -0.8  1.2 -2.8  0.2]\n",
      " [-1.2  2.8 -2.2  0.8 -0.2]\n",
      " [ 2.   2.  -1.  -4.   1. ]\n",
      " [ 1.8 -0.2  2.8 -1.2 -3.2]]\n"
     ]
    }
   ],
   "source": [
    "a=np.random.randint(2, 10, size=(5,5))\n",
    "c=a - a.mean(axis=1,keepdims=True)\n",
    "print(c)"
   ]
  },
  {
   "cell_type": "code",
   "execution_count": null,
   "id": "a97fdd01",
   "metadata": {},
   "outputs": [],
   "source": []
  }
 ],
 "metadata": {
  "kernelspec": {
   "display_name": "Python 3",
   "language": "python",
   "name": "python3"
  },
  "language_info": {
   "codemirror_mode": {
    "name": "ipython",
    "version": 3
   },
   "file_extension": ".py",
   "mimetype": "text/x-python",
   "name": "python",
   "nbconvert_exporter": "python",
   "pygments_lexer": "ipython3",
   "version": "3.8.8"
  }
 },
 "nbformat": 4,
 "nbformat_minor": 5
}
